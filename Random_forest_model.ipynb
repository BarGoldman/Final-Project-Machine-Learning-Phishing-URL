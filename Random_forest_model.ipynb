{
 "cells": [
  {
   "cell_type": "markdown",
   "id": "86428129-75c4-48a7-9491-3781ba3a9440",
   "metadata": {},
   "source": [
    "# Final Project Machine Learning Phishing URL\n"
   ]
  },
  {
   "cell_type": "markdown",
   "id": "88fc438f-aac3-4763-bc23-2f17dc2e4ad7",
   "metadata": {},
   "source": [
    "\"Highly accurate phishing URL detection based on machine learning,\" presents a machine learning-based framework for detecting phishing URLs. It highlights the persistent threat of phishing attacks and the limitations of existing detection techniques. The proposed method focuses on URL analysis, using a set of features extracted from URLs to classify them as phishing or legitimate. Experiments on various datasets show the framework's effectiveness, with a notable improvement in accuracy compared to existing methods. The approach avoids relying on third-party services or webpage visits, making it efficient and secure."
   ]
  },
  {
   "cell_type": "code",
   "execution_count": 1,
   "id": "58a35525-e63d-4366-ae9b-9e527a131fb6",
   "metadata": {},
   "outputs": [
    {
     "name": "stdout",
     "output_type": "stream",
     "text": [
      "Requirement already satisfied: pandas in /home/codespace/.local/lib/python3.10/site-packages (2.2.0)\n",
      "Requirement already satisfied: scikit-learn in /usr/local/python/3.10.13/lib/python3.10/site-packages (1.3.2)\n",
      "Requirement already satisfied: numpy in /home/codespace/.local/lib/python3.10/site-packages (1.26.4)\n",
      "Requirement already satisfied: python-dateutil>=2.8.2 in /home/codespace/.local/lib/python3.10/site-packages (from pandas) (2.8.2)\n",
      "Requirement already satisfied: pytz>=2020.1 in /home/codespace/.local/lib/python3.10/site-packages (from pandas) (2024.1)\n",
      "Requirement already satisfied: tzdata>=2022.7 in /home/codespace/.local/lib/python3.10/site-packages (from pandas) (2023.4)\n",
      "Requirement already satisfied: scipy>=1.5.0 in /home/codespace/.local/lib/python3.10/site-packages (from scikit-learn) (1.12.0)\n",
      "Requirement already satisfied: joblib>=1.1.1 in /home/codespace/.local/lib/python3.10/site-packages (from scikit-learn) (1.3.2)\n",
      "Requirement already satisfied: threadpoolctl>=2.0.0 in /home/codespace/.local/lib/python3.10/site-packages (from scikit-learn) (3.2.0)\n",
      "Requirement already satisfied: six>=1.5 in /home/codespace/.local/lib/python3.10/site-packages (from python-dateutil>=2.8.2->pandas) (1.16.0)\n",
      "Note: you may need to restart the kernel to use updated packages.\n"
     ]
    }
   ],
   "source": [
    "pip install pandas scikit-learn numpy"
   ]
  },
  {
   "cell_type": "code",
   "execution_count": 2,
   "id": "c9f5fd87-1489-411e-8e5d-be2fad0facc8",
   "metadata": {},
   "outputs": [
    {
     "name": "stdout",
     "output_type": "stream",
     "text": [
      "Requirement already satisfied: pandas in /home/codespace/.local/lib/python3.10/site-packages (2.2.0)\n",
      "Requirement already satisfied: numpy<2,>=1.22.4 in /home/codespace/.local/lib/python3.10/site-packages (from pandas) (1.26.4)\n",
      "Requirement already satisfied: python-dateutil>=2.8.2 in /home/codespace/.local/lib/python3.10/site-packages (from pandas) (2.8.2)\n",
      "Requirement already satisfied: pytz>=2020.1 in /home/codespace/.local/lib/python3.10/site-packages (from pandas) (2024.1)\n",
      "Requirement already satisfied: tzdata>=2022.7 in /home/codespace/.local/lib/python3.10/site-packages (from pandas) (2023.4)\n",
      "Requirement already satisfied: six>=1.5 in /home/codespace/.local/lib/python3.10/site-packages (from python-dateutil>=2.8.2->pandas) (1.16.0)\n"
     ]
    }
   ],
   "source": [
    "!pip install pandas"
   ]
  },
  {
   "cell_type": "code",
   "execution_count": 3,
   "id": "f1b32b10-d45b-4427-b8c7-8b44e98cc954",
   "metadata": {},
   "outputs": [
    {
     "name": "stdout",
     "output_type": "stream",
     "text": [
      "Requirement already satisfied: matplotlib in /home/codespace/.local/lib/python3.10/site-packages (3.8.2)\n",
      "Requirement already satisfied: contourpy>=1.0.1 in /home/codespace/.local/lib/python3.10/site-packages (from matplotlib) (1.2.0)\n",
      "Requirement already satisfied: cycler>=0.10 in /home/codespace/.local/lib/python3.10/site-packages (from matplotlib) (0.12.1)\n",
      "Requirement already satisfied: fonttools>=4.22.0 in /home/codespace/.local/lib/python3.10/site-packages (from matplotlib) (4.48.1)\n",
      "Requirement already satisfied: kiwisolver>=1.3.1 in /home/codespace/.local/lib/python3.10/site-packages (from matplotlib) (1.4.5)\n",
      "Requirement already satisfied: numpy<2,>=1.21 in /home/codespace/.local/lib/python3.10/site-packages (from matplotlib) (1.26.4)\n",
      "Requirement already satisfied: packaging>=20.0 in /home/codespace/.local/lib/python3.10/site-packages (from matplotlib) (23.2)\n",
      "Requirement already satisfied: pillow>=8 in /home/codespace/.local/lib/python3.10/site-packages (from matplotlib) (10.2.0)\n",
      "Requirement already satisfied: pyparsing>=2.3.1 in /home/codespace/.local/lib/python3.10/site-packages (from matplotlib) (3.1.1)\n",
      "Requirement already satisfied: python-dateutil>=2.7 in /home/codespace/.local/lib/python3.10/site-packages (from matplotlib) (2.8.2)\n",
      "Requirement already satisfied: six>=1.5 in /home/codespace/.local/lib/python3.10/site-packages (from python-dateutil>=2.7->matplotlib) (1.16.0)\n",
      "Note: you may need to restart the kernel to use updated packages.\n"
     ]
    }
   ],
   "source": [
    "pip install matplotlib"
   ]
  },
  {
   "cell_type": "code",
   "execution_count": 4,
   "id": "a2f32a45-f854-4905-bef6-b6b5b8783bf9",
   "metadata": {},
   "outputs": [
    {
     "name": "stdout",
     "output_type": "stream",
     "text": [
      "Collecting python-whois\n",
      "  Downloading python-whois-0.8.0.tar.gz (109 kB)\n",
      "\u001b[2K     \u001b[90m━━━━━━━━━━━━━━━━━━━━━━━━━━━━━━━━━━━━━━━\u001b[0m \u001b[32m109.6/109.6 kB\u001b[0m \u001b[31m3.1 MB/s\u001b[0m eta \u001b[36m0:00:00\u001b[0m\n",
      "\u001b[?25h  Installing build dependencies ... \u001b[?25ldone\n",
      "\u001b[?25h  Getting requirements to build wheel ... \u001b[?25ldone\n",
      "\u001b[?25h  Installing backend dependencies ... \u001b[?25ldone\n",
      "\u001b[?25h  Preparing metadata (pyproject.toml) ... \u001b[?25ldone\n",
      "\u001b[?25hCollecting future (from python-whois)\n",
      "  Downloading future-0.18.3.tar.gz (840 kB)\n",
      "\u001b[2K     \u001b[90m━━━━━━━━━━━━━━━━━━━━━━━━━━━━━━━━━━━━━━\u001b[0m \u001b[32m840.9/840.9 kB\u001b[0m \u001b[31m19.3 MB/s\u001b[0m eta \u001b[36m0:00:00\u001b[0m00:01\u001b[0m\n",
      "\u001b[?25h  Installing build dependencies ... \u001b[?25ldone\n",
      "\u001b[?25h  Getting requirements to build wheel ... \u001b[?25ldone\n",
      "\u001b[?25h  Installing backend dependencies ... \u001b[?25ldone\n",
      "\u001b[?25h  Preparing metadata (pyproject.toml) ... \u001b[?25ldone\n",
      "\u001b[?25hBuilding wheels for collected packages: python-whois, future\n",
      "  Building wheel for python-whois (pyproject.toml) ... \u001b[?25ldone\n",
      "\u001b[?25h  Created wheel for python-whois: filename=python_whois-0.8.0-py3-none-any.whl size=103246 sha256=0ade4124574ee48ba70897de98a79ad36a8b2f212110de515cffc91b80e7fe1a\n",
      "  Stored in directory: /home/codespace/.cache/pip/wheels/10/f1/87/145023b9a206e2e948be6480c61ef3fd3dbb81ef11b6977782\n",
      "  Building wheel for future (pyproject.toml) ... \u001b[?25ldone\n",
      "\u001b[?25h  Created wheel for future: filename=future-0.18.3-py3-none-any.whl size=492024 sha256=1daa1ebb97ac51e278e7b501475f0a3e990d9357b36f20d30e65c17effcc60d4\n",
      "  Stored in directory: /home/codespace/.cache/pip/wheels/5e/a9/47/f118e66afd12240e4662752cc22cefae5d97275623aa8ef57d\n",
      "Successfully built python-whois future\n",
      "Installing collected packages: future, python-whois\n",
      "Successfully installed future-0.18.3 python-whois-0.8.0\n"
     ]
    }
   ],
   "source": [
    "!pip install python-whois"
   ]
  },
  {
   "cell_type": "code",
   "execution_count": 5,
   "id": "76a9a20d-0a84-420a-9a62-53713c9eefe0",
   "metadata": {},
   "outputs": [
    {
     "name": "stdout",
     "output_type": "stream",
     "text": [
      "Requirement already satisfied: numpy in /home/codespace/.local/lib/python3.10/site-packages (1.26.4)\n",
      "Requirement already satisfied: seaborn in /home/codespace/.local/lib/python3.10/site-packages (0.13.2)\n",
      "Requirement already satisfied: scikit-learn in /usr/local/python/3.10.13/lib/python3.10/site-packages (1.3.2)\n",
      "Requirement already satisfied: joblib in /home/codespace/.local/lib/python3.10/site-packages (1.3.2)\n",
      "Requirement already satisfied: pandas>=1.2 in /home/codespace/.local/lib/python3.10/site-packages (from seaborn) (2.2.0)\n",
      "Requirement already satisfied: matplotlib!=3.6.1,>=3.4 in /home/codespace/.local/lib/python3.10/site-packages (from seaborn) (3.8.2)\n",
      "Requirement already satisfied: scipy>=1.5.0 in /home/codespace/.local/lib/python3.10/site-packages (from scikit-learn) (1.12.0)\n",
      "Requirement already satisfied: threadpoolctl>=2.0.0 in /home/codespace/.local/lib/python3.10/site-packages (from scikit-learn) (3.2.0)\n",
      "Requirement already satisfied: contourpy>=1.0.1 in /home/codespace/.local/lib/python3.10/site-packages (from matplotlib!=3.6.1,>=3.4->seaborn) (1.2.0)\n",
      "Requirement already satisfied: cycler>=0.10 in /home/codespace/.local/lib/python3.10/site-packages (from matplotlib!=3.6.1,>=3.4->seaborn) (0.12.1)\n",
      "Requirement already satisfied: fonttools>=4.22.0 in /home/codespace/.local/lib/python3.10/site-packages (from matplotlib!=3.6.1,>=3.4->seaborn) (4.48.1)\n",
      "Requirement already satisfied: kiwisolver>=1.3.1 in /home/codespace/.local/lib/python3.10/site-packages (from matplotlib!=3.6.1,>=3.4->seaborn) (1.4.5)\n",
      "Requirement already satisfied: packaging>=20.0 in /home/codespace/.local/lib/python3.10/site-packages (from matplotlib!=3.6.1,>=3.4->seaborn) (23.2)\n",
      "Requirement already satisfied: pillow>=8 in /home/codespace/.local/lib/python3.10/site-packages (from matplotlib!=3.6.1,>=3.4->seaborn) (10.2.0)\n",
      "Requirement already satisfied: pyparsing>=2.3.1 in /home/codespace/.local/lib/python3.10/site-packages (from matplotlib!=3.6.1,>=3.4->seaborn) (3.1.1)\n",
      "Requirement already satisfied: python-dateutil>=2.7 in /home/codespace/.local/lib/python3.10/site-packages (from matplotlib!=3.6.1,>=3.4->seaborn) (2.8.2)\n",
      "Requirement already satisfied: pytz>=2020.1 in /home/codespace/.local/lib/python3.10/site-packages (from pandas>=1.2->seaborn) (2024.1)\n",
      "Requirement already satisfied: tzdata>=2022.7 in /home/codespace/.local/lib/python3.10/site-packages (from pandas>=1.2->seaborn) (2023.4)\n",
      "Requirement already satisfied: six>=1.5 in /home/codespace/.local/lib/python3.10/site-packages (from python-dateutil>=2.7->matplotlib!=3.6.1,>=3.4->seaborn) (1.16.0)\n"
     ]
    }
   ],
   "source": [
    "!pip install numpy seaborn scikit-learn joblib"
   ]
  },
  {
   "cell_type": "code",
   "execution_count": 6,
   "id": "1aae9fef-be8e-4734-b05d-febf54a4f2d6",
   "metadata": {
    "tags": []
   },
   "outputs": [
    {
     "name": "stderr",
     "output_type": "stream",
     "text": [
      "/tmp/ipykernel_2497/3256435596.py:1: DeprecationWarning: \n",
      "Pyarrow will become a required dependency of pandas in the next major release of pandas (pandas 3.0),\n",
      "(to allow more performant data types, such as the Arrow string type, and better interoperability with other libraries)\n",
      "but was not found to be installed on your system.\n",
      "If this would cause problems for you,\n",
      "please provide us feedback at https://github.com/pandas-dev/pandas/issues/54466\n",
      "        \n",
      "  import pandas as pd\n"
     ]
    }
   ],
   "source": [
    "import pandas as pd\n",
    "from sklearn.model_selection import train_test_split\n",
    "from sklearn.ensemble import RandomForestClassifier\n",
    "from sklearn.feature_selection import SelectFromModel\n",
    "from sklearn.metrics import classification_report\n",
    "from urllib.parse import urlparse\n",
    "import numpy as np\n",
    "from math import log2\n",
    "import matplotlib.pyplot as plt\n",
    "\n",
    "import seaborn as sns\n",
    "from sklearn.metrics import confusion_matrix, classification_report"
   ]
  },
  {
   "cell_type": "markdown",
   "id": "95d19724-cac0-4eac-9acf-dd050e7e984a",
   "metadata": {},
   "source": [
    "# Read the data"
   ]
  },
  {
   "cell_type": "code",
   "execution_count": 7,
   "id": "50af43f2-a7a1-4df3-be11-1937e8c259ef",
   "metadata": {},
   "outputs": [
    {
     "data": {
      "text/html": [
       "<div>\n",
       "<style scoped>\n",
       "    .dataframe tbody tr th:only-of-type {\n",
       "        vertical-align: middle;\n",
       "    }\n",
       "\n",
       "    .dataframe tbody tr th {\n",
       "        vertical-align: top;\n",
       "    }\n",
       "\n",
       "    .dataframe thead th {\n",
       "        text-align: right;\n",
       "    }\n",
       "</style>\n",
       "<table border=\"1\" class=\"dataframe\">\n",
       "  <thead>\n",
       "    <tr style=\"text-align: right;\">\n",
       "      <th></th>\n",
       "      <th>url</th>\n",
       "      <th>label</th>\n",
       "    </tr>\n",
       "  </thead>\n",
       "  <tbody>\n",
       "    <tr>\n",
       "      <th>0</th>\n",
       "      <td>ucsc.edu</td>\n",
       "      <td>0</td>\n",
       "    </tr>\n",
       "    <tr>\n",
       "      <th>1</th>\n",
       "      <td>pub-be6a50d3442948e998bb890a6a982a6c.r2.dev/in...</td>\n",
       "      <td>1</td>\n",
       "    </tr>\n",
       "    <tr>\n",
       "      <th>2</th>\n",
       "      <td>beternuipouli.web.app/</td>\n",
       "      <td>1</td>\n",
       "    </tr>\n",
       "    <tr>\n",
       "      <th>3</th>\n",
       "      <td>muji8.org</td>\n",
       "      <td>0</td>\n",
       "    </tr>\n",
       "    <tr>\n",
       "      <th>4</th>\n",
       "      <td>payfastsza.firebaseapp.com/</td>\n",
       "      <td>1</td>\n",
       "    </tr>\n",
       "    <tr>\n",
       "      <th>...</th>\n",
       "      <td>...</td>\n",
       "      <td>...</td>\n",
       "    </tr>\n",
       "    <tr>\n",
       "      <th>91448</th>\n",
       "      <td>optikgeneral.com/Webmail/12/Webmail/webmail.php</td>\n",
       "      <td>1</td>\n",
       "    </tr>\n",
       "    <tr>\n",
       "      <th>91449</th>\n",
       "      <td>thegioididong.com</td>\n",
       "      <td>0</td>\n",
       "    </tr>\n",
       "    <tr>\n",
       "      <th>91450</th>\n",
       "      <td>pressks.com</td>\n",
       "      <td>0</td>\n",
       "    </tr>\n",
       "    <tr>\n",
       "      <th>91451</th>\n",
       "      <td>68.178.168.47/Empresarial/</td>\n",
       "      <td>1</td>\n",
       "    </tr>\n",
       "    <tr>\n",
       "      <th>91452</th>\n",
       "      <td>usps.comhelpom.com/</td>\n",
       "      <td>1</td>\n",
       "    </tr>\n",
       "  </tbody>\n",
       "</table>\n",
       "<p>91453 rows × 2 columns</p>\n",
       "</div>"
      ],
      "text/plain": [
       "                                                     url  label\n",
       "0                                               ucsc.edu      0\n",
       "1      pub-be6a50d3442948e998bb890a6a982a6c.r2.dev/in...      1\n",
       "2                                 beternuipouli.web.app/      1\n",
       "3                                              muji8.org      0\n",
       "4                            payfastsza.firebaseapp.com/      1\n",
       "...                                                  ...    ...\n",
       "91448    optikgeneral.com/Webmail/12/Webmail/webmail.php      1\n",
       "91449                                  thegioididong.com      0\n",
       "91450                                        pressks.com      0\n",
       "91451                         68.178.168.47/Empresarial/      1\n",
       "91452                                usps.comhelpom.com/      1\n",
       "\n",
       "[91453 rows x 2 columns]"
      ]
     },
     "execution_count": 7,
     "metadata": {},
     "output_type": "execute_result"
    }
   ],
   "source": [
    "df = pd.read_csv('combined_df.csv')\n",
    "df = df.sample(frac=1, random_state=42).reset_index(drop=True)\n",
    "df"
   ]
  },
  {
   "cell_type": "markdown",
   "id": "5f2ee8d4-42de-40ea-9ca0-306397933f4f",
   "metadata": {},
   "source": [
    "# Features"
   ]
  },
  {
   "cell_type": "markdown",
   "id": "645fd2fa-d71f-4a84-9c3d-1d6b56141591",
   "metadata": {},
   "source": [
    "### Features From Urls"
   ]
  },
  {
   "cell_type": "code",
   "execution_count": 8,
   "id": "13b9c8d0-8133-4f6f-b0be-3608d9673a61",
   "metadata": {
    "tags": []
   },
   "outputs": [],
   "source": [
    "\n",
    "# Helper function to calculate the number of times each special character appears in the URL\n",
    "def count_chars(url, char_list):\n",
    "    return {f\"num_{char}_url\": url.count(char) for char in char_list}\n",
    "\n",
    "# Function to check if an email is present in the URL\n",
    "def check_email_in_url(url):\n",
    "    return 1 if \"@\" in url else 0\n",
    "\n",
    "# Calculate the length of the top-level domain (TLD)\n",
    "def tld_length(url):\n",
    "    domain = urlparse(url).netloc\n",
    "    try:\n",
    "        return len(domain.split('.')[-1])  # Assuming the last part after the last dot is the TLD\n",
    "    except IndexError:\n",
    "        return 0\n",
    "\n",
    "# New function to check if \"&\" is greater than \"=\" in the URL\n",
    "def amp_greater_than_equal(url):\n",
    "    num_amp = url.count(\"&\")\n",
    "    num_equal = url.count(\"=\")\n",
    "    return 1 if num_amp > num_equal else 0\n",
    "\n",
    "# Updated function to extract features from URLs in a DataFrame\n",
    "def extract_features_from_urls(df):\n",
    "    def get_features(url):\n",
    "        special_chars = ['.', '-', '_', '/', '?', '=', '@', '&', '!', ' ', '~', ',', '+', '*', '#', '$', '%']\n",
    "        features = count_chars(url, special_chars)\n",
    "        features['length_url'] = len(url)\n",
    "        features['email_in_url'] = check_email_in_url(url)\n",
    "        features['num_tld_url'] = tld_length(url)\n",
    "        # Add the new feature\n",
    "        features['amp_greater_than_equal'] = amp_greater_than_equal(url)\n",
    "        return features\n",
    "    \n",
    "    # Apply the get_features function to each URL in the DataFrame\n",
    "    features_df = df['url'].apply(lambda x: pd.Series(get_features(x)))\n",
    "    return pd.concat([df, features_df], axis=1)\n"
   ]
  },
  {
   "cell_type": "code",
   "execution_count": 9,
   "id": "5506ffc4-1d09-45db-b407-381ff6496ae5",
   "metadata": {
    "tags": []
   },
   "outputs": [
    {
     "name": "stdout",
     "output_type": "stream",
     "text": [
      "                                                     url  label  num_._url  \\\n",
      "0                                               ucsc.edu      0          1   \n",
      "1      pub-be6a50d3442948e998bb890a6a982a6c.r2.dev/in...      1          3   \n",
      "2                                 beternuipouli.web.app/      1          2   \n",
      "3                                              muji8.org      0          1   \n",
      "4                            payfastsza.firebaseapp.com/      1          2   \n",
      "...                                                  ...    ...        ...   \n",
      "91448    optikgeneral.com/Webmail/12/Webmail/webmail.php      1          2   \n",
      "91449                                  thegioididong.com      0          1   \n",
      "91450                                        pressks.com      0          1   \n",
      "91451                         68.178.168.47/Empresarial/      1          3   \n",
      "91452                                usps.comhelpom.com/      1          2   \n",
      "\n",
      "       num_-_url  num___url  num_/_url  num_?_url  num_=_url  num_@_url  \\\n",
      "0              0          0          0          0          0          0   \n",
      "1              1          0          1          0          0          0   \n",
      "2              0          0          1          0          0          0   \n",
      "3              0          0          0          0          0          0   \n",
      "4              0          0          1          0          0          0   \n",
      "...          ...        ...        ...        ...        ...        ...   \n",
      "91448          0          0          4          0          0          0   \n",
      "91449          0          0          0          0          0          0   \n",
      "91450          0          0          0          0          0          0   \n",
      "91451          0          0          2          0          0          0   \n",
      "91452          0          0          1          0          0          0   \n",
      "\n",
      "       num_&_url  ...  num_,_url  num_+_url  num_*_url  num_#_url  num_$_url  \\\n",
      "0              0  ...          0          0          0          0          0   \n",
      "1              0  ...          0          0          0          0          0   \n",
      "2              0  ...          0          0          0          0          0   \n",
      "3              0  ...          0          0          0          0          0   \n",
      "4              0  ...          0          0          0          0          0   \n",
      "...          ...  ...        ...        ...        ...        ...        ...   \n",
      "91448          0  ...          0          0          0          0          0   \n",
      "91449          0  ...          0          0          0          0          0   \n",
      "91450          0  ...          0          0          0          0          0   \n",
      "91451          0  ...          0          0          0          0          0   \n",
      "91452          0  ...          0          0          0          0          0   \n",
      "\n",
      "       num_%_url  length_url  email_in_url  num_tld_url  \\\n",
      "0              0           8             0            0   \n",
      "1              0          54             0            0   \n",
      "2              0          22             0            0   \n",
      "3              0           9             0            0   \n",
      "4              0          27             0            0   \n",
      "...          ...         ...           ...          ...   \n",
      "91448          0          47             0            0   \n",
      "91449          0          17             0            0   \n",
      "91450          0          11             0            0   \n",
      "91451          0          26             0            0   \n",
      "91452          0          19             0            0   \n",
      "\n",
      "       amp_greater_than_equal  \n",
      "0                           0  \n",
      "1                           0  \n",
      "2                           0  \n",
      "3                           0  \n",
      "4                           0  \n",
      "...                       ...  \n",
      "91448                       0  \n",
      "91449                       0  \n",
      "91450                       0  \n",
      "91451                       0  \n",
      "91452                       0  \n",
      "\n",
      "[91453 rows x 23 columns]\n"
     ]
    }
   ],
   "source": [
    "#First, apply URL features extraction\n",
    "df_features = extract_features_from_urls(df)\n",
    "\n",
    "print(df_features)"
   ]
  },
  {
   "cell_type": "markdown",
   "id": "eb0337fd-e842-430f-8555-c17c0365a8b4",
   "metadata": {},
   "source": [
    "# features from domain"
   ]
  },
  {
   "cell_type": "code",
   "execution_count": 10,
   "id": "65e2e818-fc27-471d-81e4-b53d32bac736",
   "metadata": {},
   "outputs": [],
   "source": [
    "import requests\n",
    "import re\n",
    "\n",
    "def domain_features(url):\n",
    "    first_url = \"http://\" + url\n",
    "    parsed_url = urlparse(first_url)\n",
    "    domain = parsed_url.netloc\n",
    "\n",
    "    if domain.startswith(\"www.\"):\n",
    "        domain = domain[4:]\n",
    "\n",
    "    # Calculate the number of dots in the domain\n",
    "    num_dots_dom = domain.count('.')\n",
    "\n",
    "    # Calculate the number of hyphens in the domain\n",
    "    num_hyph_dom = domain.count('-')\n",
    "\n",
    "    # Calculate the number of underscores in the domain\n",
    "    num_undeline_dom = domain.count('_')\n",
    "\n",
    "    # Count the number of vowels in the domain\n",
    "    num_vowels_dom = sum(1 for char in domain if char in 'aeiouAEIOU')\n",
    "\n",
    "    # Calculate the length of the domain\n",
    "    length_dom = len(domain)\n",
    "\n",
    "    # Check if the domain is in IP format\n",
    "    dom_in_ip = 1 if re.match(r\"^\\d{1,3}\\.\\d{1,3}\\.\\d{1,3}\\.\\d{1,3}$\", domain) else 0\n",
    "\n",
    "    # Check for the presence of \"server\" or \"client\" in the domain\n",
    "    server_client_dom = 1 if 'server' in domain or 'client' in domain else 0\n",
    "\n",
    "        # Calculate the number of subdomains\n",
    "    num_subdomains = domain.count('.') - 1\n",
    "\n",
    "    # Compile all features into a dictionary\n",
    "    features = {\n",
    "        'num_dots_dom': num_dots_dom,\n",
    "        'num_hyph_dom': num_hyph_dom,\n",
    "        'num_undeline_dom': num_undeline_dom,\n",
    "        'num_vowels_dom': num_vowels_dom,\n",
    "        'length_dom': length_dom,\n",
    "        'dom_in_ip': dom_in_ip,\n",
    "        'server_client_dom': server_client_dom,\n",
    "        'num_subdomains': num_subdomains,\n",
    "    }\n",
    "    \n",
    "    return features\n",
    "\n",
    "\n",
    "def features_from_domain(df):\n",
    "    # Apply the domain_features function to each URL in the DataFrame\n",
    "    features_df = df['url'].apply(lambda x: pd.Series(domain_features(x)))\n",
    "    return pd.concat([df, features_df], axis=1)"
   ]
  },
  {
   "cell_type": "code",
   "execution_count": 11,
   "id": "a876dd37-b28d-4863-b01a-0cbc6f0eb715",
   "metadata": {},
   "outputs": [
    {
     "name": "stdout",
     "output_type": "stream",
     "text": [
      "                                                     url  label  num_._url  \\\n",
      "0                                               ucsc.edu      0          1   \n",
      "1      pub-be6a50d3442948e998bb890a6a982a6c.r2.dev/in...      1          3   \n",
      "2                                 beternuipouli.web.app/      1          2   \n",
      "3                                              muji8.org      0          1   \n",
      "4                            payfastsza.firebaseapp.com/      1          2   \n",
      "...                                                  ...    ...        ...   \n",
      "91448    optikgeneral.com/Webmail/12/Webmail/webmail.php      1          2   \n",
      "91449                                  thegioididong.com      0          1   \n",
      "91450                                        pressks.com      0          1   \n",
      "91451                         68.178.168.47/Empresarial/      1          3   \n",
      "91452                                usps.comhelpom.com/      1          2   \n",
      "\n",
      "       num_-_url  num___url  num_/_url  num_?_url  num_=_url  num_@_url  \\\n",
      "0              0          0          0          0          0          0   \n",
      "1              1          0          1          0          0          0   \n",
      "2              0          0          1          0          0          0   \n",
      "3              0          0          0          0          0          0   \n",
      "4              0          0          1          0          0          0   \n",
      "...          ...        ...        ...        ...        ...        ...   \n",
      "91448          0          0          4          0          0          0   \n",
      "91449          0          0          0          0          0          0   \n",
      "91450          0          0          0          0          0          0   \n",
      "91451          0          0          2          0          0          0   \n",
      "91452          0          0          1          0          0          0   \n",
      "\n",
      "       num_&_url  ...  num_tld_url  amp_greater_than_equal  num_dots_dom  \\\n",
      "0              0  ...            0                       0             1   \n",
      "1              0  ...            0                       0             2   \n",
      "2              0  ...            0                       0             2   \n",
      "3              0  ...            0                       0             1   \n",
      "4              0  ...            0                       0             2   \n",
      "...          ...  ...          ...                     ...           ...   \n",
      "91448          0  ...            0                       0             1   \n",
      "91449          0  ...            0                       0             1   \n",
      "91450          0  ...            0                       0             1   \n",
      "91451          0  ...            0                       0             3   \n",
      "91452          0  ...            0                       0             2   \n",
      "\n",
      "       num_hyph_dom  num_undeline_dom  num_vowels_dom  length_dom  dom_in_ip  \\\n",
      "0                 0                 0               3           8          0   \n",
      "1                 1                 0               8          43          0   \n",
      "2                 0                 0               9          21          0   \n",
      "3                 0                 0               3           9          0   \n",
      "4                 0                 0               9          26          0   \n",
      "...             ...               ...             ...         ...        ...   \n",
      "91448             0                 0               6          16          0   \n",
      "91449             0                 0               7          17          0   \n",
      "91450             0                 0               2          11          0   \n",
      "91451             0                 0               0          13          1   \n",
      "91452             0                 0               5          18          0   \n",
      "\n",
      "       server_client_dom  num_subdomains  \n",
      "0                      0               0  \n",
      "1                      0               1  \n",
      "2                      0               1  \n",
      "3                      0               0  \n",
      "4                      0               1  \n",
      "...                  ...             ...  \n",
      "91448                  0               0  \n",
      "91449                  0               0  \n",
      "91450                  0               0  \n",
      "91451                  0               2  \n",
      "91452                  0               1  \n",
      "\n",
      "[91453 rows x 31 columns]\n"
     ]
    }
   ],
   "source": [
    "#Then, apply domain features extraction on the same DataFrame\n",
    "df_features = features_from_domain(df_features)\n",
    "\n",
    "print(df_features)"
   ]
  },
  {
   "cell_type": "markdown",
   "id": "d4774e68-e744-48e8-b8d8-a44f9d569f4c",
   "metadata": {},
   "source": [
    "### Features Pathname"
   ]
  },
  {
   "cell_type": "code",
   "execution_count": 12,
   "id": "1d09f807-aeff-43c0-b385-13dfd2d4cfe3",
   "metadata": {},
   "outputs": [],
   "source": [
    "def extract_pathname_features(url):\n",
    "    \"\"\"\n",
    "    Extracts features from the pathname of a URL.\n",
    "    \"\"\"\n",
    "    first_url = \"http://\" + url\n",
    "    pathname = urlparse(first_url).path\n",
    "\n",
    "    features = {\n",
    "        'num_dots_path': pathname.count('.'),\n",
    "        'num_hyph_path': pathname.count('-'),\n",
    "        'num_undeline_path': pathname.count('_'),\n",
    "        'num_slash_path': pathname.count('/'),\n",
    "        'num_question_path': pathname.count('?'),\n",
    "        'num_equal_path': pathname.count('='),\n",
    "        'at_sign_path': pathname.count('@'),\n",
    "        'num_and_path': pathname.count('&'),\n",
    "        'num_exclamation_path': pathname.count('!'),\n",
    "        'num_space_path': pathname.count(' '),\n",
    "        'tilde_path': pathname.count('~'),\n",
    "        'num_comma_path': pathname.count(','),\n",
    "        'num_plus_path': pathname.count('+'),\n",
    "        'num_asterisk_path': pathname.count('*'),\n",
    "        'num_hash_path': pathname.count('#'),\n",
    "        'num_dollar_path': pathname.count('$'),\n",
    "        'num_percent_path': pathname.count('%'),\n",
    "        'length_path': len(pathname)\n",
    "    }\n",
    "    \n",
    "    return features\n",
    "\n",
    "def features_from_pathname(df):\n",
    "    \"\"\"\n",
    "    Applies the extract_pathname_features function to each URL in a DataFrame and returns the DataFrame with added features.\n",
    "    \"\"\"\n",
    "    # Apply the extract_pathname_features function to each URL in the DataFrame\n",
    "    features_df = df['url'].apply(lambda x: pd.Series(extract_pathname_features(x)))\n",
    "    return pd.concat([df, features_df], axis=1)\n"
   ]
  },
  {
   "cell_type": "code",
   "execution_count": 13,
   "id": "2fe25e1d-acba-4f1e-8a49-cbc385976c9e",
   "metadata": {},
   "outputs": [
    {
     "name": "stdout",
     "output_type": "stream",
     "text": [
      "                                                     url  label  num_._url  \\\n",
      "0                                               ucsc.edu      0          1   \n",
      "1      pub-be6a50d3442948e998bb890a6a982a6c.r2.dev/in...      1          3   \n",
      "2                                 beternuipouli.web.app/      1          2   \n",
      "3                                              muji8.org      0          1   \n",
      "4                            payfastsza.firebaseapp.com/      1          2   \n",
      "...                                                  ...    ...        ...   \n",
      "91448    optikgeneral.com/Webmail/12/Webmail/webmail.php      1          2   \n",
      "91449                                  thegioididong.com      0          1   \n",
      "91450                                        pressks.com      0          1   \n",
      "91451                         68.178.168.47/Empresarial/      1          3   \n",
      "91452                                usps.comhelpom.com/      1          2   \n",
      "\n",
      "       num_-_url  num___url  num_/_url  num_?_url  num_=_url  num_@_url  \\\n",
      "0              0          0          0          0          0          0   \n",
      "1              1          0          1          0          0          0   \n",
      "2              0          0          1          0          0          0   \n",
      "3              0          0          0          0          0          0   \n",
      "4              0          0          1          0          0          0   \n",
      "...          ...        ...        ...        ...        ...        ...   \n",
      "91448          0          0          4          0          0          0   \n",
      "91449          0          0          0          0          0          0   \n",
      "91450          0          0          0          0          0          0   \n",
      "91451          0          0          2          0          0          0   \n",
      "91452          0          0          1          0          0          0   \n",
      "\n",
      "       num_&_url  ...  num_exclamation_path  num_space_path  tilde_path  \\\n",
      "0              0  ...                     0               0           0   \n",
      "1              0  ...                     0               0           0   \n",
      "2              0  ...                     0               0           0   \n",
      "3              0  ...                     0               0           0   \n",
      "4              0  ...                     0               0           0   \n",
      "...          ...  ...                   ...             ...         ...   \n",
      "91448          0  ...                     0               0           0   \n",
      "91449          0  ...                     0               0           0   \n",
      "91450          0  ...                     0               0           0   \n",
      "91451          0  ...                     0               0           0   \n",
      "91452          0  ...                     0               0           0   \n",
      "\n",
      "       num_comma_path  num_plus_path  num_asterisk_path  num_hash_path  \\\n",
      "0                   0              0                  0              0   \n",
      "1                   0              0                  0              0   \n",
      "2                   0              0                  0              0   \n",
      "3                   0              0                  0              0   \n",
      "4                   0              0                  0              0   \n",
      "...               ...            ...                ...            ...   \n",
      "91448               0              0                  0              0   \n",
      "91449               0              0                  0              0   \n",
      "91450               0              0                  0              0   \n",
      "91451               0              0                  0              0   \n",
      "91452               0              0                  0              0   \n",
      "\n",
      "       num_dollar_path  num_percent_path  length_path  \n",
      "0                    0                 0            0  \n",
      "1                    0                 0           11  \n",
      "2                    0                 0            1  \n",
      "3                    0                 0            0  \n",
      "4                    0                 0            1  \n",
      "...                ...               ...          ...  \n",
      "91448                0                 0           31  \n",
      "91449                0                 0            0  \n",
      "91450                0                 0            0  \n",
      "91451                0                 0           13  \n",
      "91452                0                 0            1  \n",
      "\n",
      "[91453 rows x 49 columns]\n"
     ]
    }
   ],
   "source": [
    "df_features = features_from_pathname(df_features)\n",
    "\n",
    "print(df_features)"
   ]
  },
  {
   "cell_type": "markdown",
   "id": "1faa50f7-2cbd-41a4-a8c5-cbf7e3a91c15",
   "metadata": {},
   "source": [
    "### Features Filename"
   ]
  },
  {
   "cell_type": "code",
   "execution_count": 14,
   "id": "a8c09eee-e090-4e76-bcb0-736819495787",
   "metadata": {},
   "outputs": [],
   "source": [
    "def extract_filename_features(url):\n",
    "    \"\"\"\n",
    "    Extracts features from the filename of a URL.\n",
    "    \"\"\"\n",
    "    first_url = \"http://\" + url\n",
    "    # Parse the URL to get the path\n",
    "    path = urlparse(first_url).path\n",
    "    # Extract the filename (assuming the filename is the last part of the path)\n",
    "    filename = path.split('/')[-1] if '/' in path else path\n",
    "    \n",
    "    features = {\n",
    "        'num_dots_file': filename.count('.'),\n",
    "        'num_hyph_file': filename.count('-'),\n",
    "        'num_undeline_file': filename.count('_'),\n",
    "        'num_equal_file': filename.count('='),\n",
    "        'at_sign_file': filename.count('@'),\n",
    "        'num_and_file': filename.count('&'),\n",
    "        'num_exclamation_file': filename.count('!'),\n",
    "        'num_space_file': filename.count(' '),\n",
    "        'tilde_file': filename.count('~'),\n",
    "        'num_comma_file': filename.count(','),\n",
    "        'num_plus_file': filename.count('+'),\n",
    "        'num_percent_file': filename.count('%'),\n",
    "        'length_file': len(filename)\n",
    "    }\n",
    "    \n",
    "    return features\n",
    "\n",
    "def features_from_filename(df):\n",
    "    \"\"\"\n",
    "    Applies the extract_filename_features function to each URL in a DataFrame and returns the DataFrame with added features.\n",
    "    \"\"\"\n",
    "    # Apply the extract_filename_features function to each URL in the DataFrame\n",
    "    features_df = df['url'].apply(lambda x: pd.Series(extract_filename_features(x)))\n",
    "    return pd.concat([df, features_df], axis=1)"
   ]
  },
  {
   "cell_type": "code",
   "execution_count": 15,
   "id": "1d9cf20b-9f94-49bc-85c0-101144843bcd",
   "metadata": {},
   "outputs": [
    {
     "name": "stdout",
     "output_type": "stream",
     "text": [
      "                                                     url  label  num_._url  \\\n",
      "0                                               ucsc.edu      0          1   \n",
      "1      pub-be6a50d3442948e998bb890a6a982a6c.r2.dev/in...      1          3   \n",
      "2                                 beternuipouli.web.app/      1          2   \n",
      "3                                              muji8.org      0          1   \n",
      "4                            payfastsza.firebaseapp.com/      1          2   \n",
      "...                                                  ...    ...        ...   \n",
      "91448    optikgeneral.com/Webmail/12/Webmail/webmail.php      1          2   \n",
      "91449                                  thegioididong.com      0          1   \n",
      "91450                                        pressks.com      0          1   \n",
      "91451                         68.178.168.47/Empresarial/      1          3   \n",
      "91452                                usps.comhelpom.com/      1          2   \n",
      "\n",
      "       num_-_url  num___url  num_/_url  num_?_url  num_=_url  num_@_url  \\\n",
      "0              0          0          0          0          0          0   \n",
      "1              1          0          1          0          0          0   \n",
      "2              0          0          1          0          0          0   \n",
      "3              0          0          0          0          0          0   \n",
      "4              0          0          1          0          0          0   \n",
      "...          ...        ...        ...        ...        ...        ...   \n",
      "91448          0          0          4          0          0          0   \n",
      "91449          0          0          0          0          0          0   \n",
      "91450          0          0          0          0          0          0   \n",
      "91451          0          0          2          0          0          0   \n",
      "91452          0          0          1          0          0          0   \n",
      "\n",
      "       num_&_url  ...  num_equal_file  at_sign_file  num_and_file  \\\n",
      "0              0  ...               0             0             0   \n",
      "1              0  ...               0             0             0   \n",
      "2              0  ...               0             0             0   \n",
      "3              0  ...               0             0             0   \n",
      "4              0  ...               0             0             0   \n",
      "...          ...  ...             ...           ...           ...   \n",
      "91448          0  ...               0             0             0   \n",
      "91449          0  ...               0             0             0   \n",
      "91450          0  ...               0             0             0   \n",
      "91451          0  ...               0             0             0   \n",
      "91452          0  ...               0             0             0   \n",
      "\n",
      "       num_exclamation_file  num_space_file  tilde_file  num_comma_file  \\\n",
      "0                         0               0           0               0   \n",
      "1                         0               0           0               0   \n",
      "2                         0               0           0               0   \n",
      "3                         0               0           0               0   \n",
      "4                         0               0           0               0   \n",
      "...                     ...             ...         ...             ...   \n",
      "91448                     0               0           0               0   \n",
      "91449                     0               0           0               0   \n",
      "91450                     0               0           0               0   \n",
      "91451                     0               0           0               0   \n",
      "91452                     0               0           0               0   \n",
      "\n",
      "       num_plus_file  num_percent_file  length_file  \n",
      "0                  0                 0            0  \n",
      "1                  0                 0           10  \n",
      "2                  0                 0            0  \n",
      "3                  0                 0            0  \n",
      "4                  0                 0            0  \n",
      "...              ...               ...          ...  \n",
      "91448              0                 0           11  \n",
      "91449              0                 0            0  \n",
      "91450              0                 0            0  \n",
      "91451              0                 0            0  \n",
      "91452              0                 0            0  \n",
      "\n",
      "[91453 rows x 62 columns]\n"
     ]
    }
   ],
   "source": [
    "df_features = features_from_filename(df_features)\n",
    "\n",
    "print(df_features)"
   ]
  },
  {
   "cell_type": "markdown",
   "id": "18a2dad6-d0fc-464d-806d-199e1c8492a0",
   "metadata": {},
   "source": [
    "### Features Parameters"
   ]
  },
  {
   "cell_type": "code",
   "execution_count": 16,
   "id": "8b4560e5-d09d-453b-9ec7-37f4e1152db5",
   "metadata": {},
   "outputs": [],
   "source": [
    "from urllib.parse import urlparse, parse_qs\n",
    "import pandas as pd\n",
    "\n",
    "def extract_parameters_features(url):\n",
    "    \"\"\"\n",
    "    Extracts features from the parameters of a URL.\n",
    "    \"\"\"\n",
    "    first_url = \"http://\" + url\n",
    "    query_string = urlparse(first_url).query\n",
    "    params = parse_qs(query_string)\n",
    "    \n",
    "    # Counting the occurrences of various symbols in the entire query string\n",
    "    features = {\n",
    "        'num_dots_param': query_string.count('.'),\n",
    "        'num_hyph_param': query_string.count('-'),\n",
    "        'num_undeline_param': query_string.count('_'),\n",
    "        'num_slash_param': query_string.count('/'),\n",
    "        'num_questionmark_param': query_string.count('?'),\n",
    "        'num_equal_param': query_string.count('='),\n",
    "        'at_sign_param': query_string.count('@'),\n",
    "        'num_and_param': query_string.count('&'),\n",
    "        'num_exclamation_param': query_string.count('!'),\n",
    "        'num_space_param': query_string.count(' '),\n",
    "        'tilde_param': query_string.count('~'),\n",
    "        'num_comma_param': query_string.count(','),\n",
    "        'num_plus_param': query_string.count('+'),\n",
    "        'num_asterisk_param': query_string.count('*'),\n",
    "        'num_dollar_param': query_string.count('$'),\n",
    "        'num_percent_param': query_string.count('%'),\n",
    "        'length_param': len(query_string),\n",
    "        'tld_in_param': int(any(part.endswith(('.com', '.org', '.net', '.edu', '.gov')) for part in query_string.split('&'))),\n",
    "        'num_param': len(params)\n",
    "    }\n",
    "    \n",
    "    return features\n",
    "\n",
    "def features_from_parameters(df):\n",
    "    \"\"\"\n",
    "    Applies the extract_parameters_features function to each URL in a DataFrame and returns the DataFrame with added features.\n",
    "    \"\"\"\n",
    "    # Apply the extract_parameters_features function to each URL in the DataFrame\n",
    "    features_df = df['url'].apply(lambda x: pd.Series(extract_parameters_features(x)))\n",
    "    return pd.concat([df, features_df], axis=1)"
   ]
  },
  {
   "cell_type": "code",
   "execution_count": 17,
   "id": "d78c15fc-7040-4f3a-8af1-5722abbfb1bb",
   "metadata": {},
   "outputs": [
    {
     "name": "stdout",
     "output_type": "stream",
     "text": [
      "                                                     url  label  num_._url  \\\n",
      "0                                               ucsc.edu      0          1   \n",
      "1      pub-be6a50d3442948e998bb890a6a982a6c.r2.dev/in...      1          3   \n",
      "2                                 beternuipouli.web.app/      1          2   \n",
      "3                                              muji8.org      0          1   \n",
      "4                            payfastsza.firebaseapp.com/      1          2   \n",
      "...                                                  ...    ...        ...   \n",
      "91448    optikgeneral.com/Webmail/12/Webmail/webmail.php      1          2   \n",
      "91449                                  thegioididong.com      0          1   \n",
      "91450                                        pressks.com      0          1   \n",
      "91451                         68.178.168.47/Empresarial/      1          3   \n",
      "91452                                usps.comhelpom.com/      1          2   \n",
      "\n",
      "       num_-_url  num___url  num_/_url  num_?_url  num_=_url  num_@_url  \\\n",
      "0              0          0          0          0          0          0   \n",
      "1              1          0          1          0          0          0   \n",
      "2              0          0          1          0          0          0   \n",
      "3              0          0          0          0          0          0   \n",
      "4              0          0          1          0          0          0   \n",
      "...          ...        ...        ...        ...        ...        ...   \n",
      "91448          0          0          4          0          0          0   \n",
      "91449          0          0          0          0          0          0   \n",
      "91450          0          0          0          0          0          0   \n",
      "91451          0          0          2          0          0          0   \n",
      "91452          0          0          1          0          0          0   \n",
      "\n",
      "       num_&_url  ...  num_space_param  tilde_param  num_comma_param  \\\n",
      "0              0  ...                0            0                0   \n",
      "1              0  ...                0            0                0   \n",
      "2              0  ...                0            0                0   \n",
      "3              0  ...                0            0                0   \n",
      "4              0  ...                0            0                0   \n",
      "...          ...  ...              ...          ...              ...   \n",
      "91448          0  ...                0            0                0   \n",
      "91449          0  ...                0            0                0   \n",
      "91450          0  ...                0            0                0   \n",
      "91451          0  ...                0            0                0   \n",
      "91452          0  ...                0            0                0   \n",
      "\n",
      "       num_plus_param  num_asterisk_param  num_dollar_param  \\\n",
      "0                   0                   0                 0   \n",
      "1                   0                   0                 0   \n",
      "2                   0                   0                 0   \n",
      "3                   0                   0                 0   \n",
      "4                   0                   0                 0   \n",
      "...               ...                 ...               ...   \n",
      "91448               0                   0                 0   \n",
      "91449               0                   0                 0   \n",
      "91450               0                   0                 0   \n",
      "91451               0                   0                 0   \n",
      "91452               0                   0                 0   \n",
      "\n",
      "       num_percent_param  length_param  tld_in_param  num_param  \n",
      "0                      0             0             0          0  \n",
      "1                      0             0             0          0  \n",
      "2                      0             0             0          0  \n",
      "3                      0             0             0          0  \n",
      "4                      0             0             0          0  \n",
      "...                  ...           ...           ...        ...  \n",
      "91448                  0             0             0          0  \n",
      "91449                  0             0             0          0  \n",
      "91450                  0             0             0          0  \n",
      "91451                  0             0             0          0  \n",
      "91452                  0             0             0          0  \n",
      "\n",
      "[91453 rows x 81 columns]\n"
     ]
    }
   ],
   "source": [
    "df_features = features_from_parameters(df_features)\n",
    "\n",
    "print(df_features)"
   ]
  },
  {
   "cell_type": "code",
   "execution_count": 18,
   "id": "42bf90b6-7f8c-47e8-8177-17d6ff537701",
   "metadata": {
    "tags": []
   },
   "outputs": [
    {
     "name": "stderr",
     "output_type": "stream",
     "text": [
      "/usr/local/python/3.10.13/lib/python3.10/site-packages/sklearn/base.py:458: UserWarning: X has feature names, but SelectFromModel was fitted without feature names\n",
      "  warnings.warn(\n",
      "/usr/local/python/3.10.13/lib/python3.10/site-packages/sklearn/base.py:458: UserWarning: X has feature names, but SelectFromModel was fitted without feature names\n",
      "  warnings.warn(\n",
      "/usr/local/python/3.10.13/lib/python3.10/site-packages/sklearn/base.py:458: UserWarning: X has feature names, but SelectFromModel was fitted without feature names\n",
      "  warnings.warn(\n"
     ]
    },
    {
     "data": {
      "text/plain": [
       "['test_data.pkl']"
      ]
     },
     "execution_count": 18,
     "metadata": {},
     "output_type": "execute_result"
    }
   ],
   "source": [
    "import joblib\n",
    "\n",
    "X = df_features.drop(['url', 'label'], axis=1)\n",
    "y = df_features['label']\n",
    "\n",
    "# Assuming X is your features and y is your labels\n",
    "# Split the data into training and test sets with stratification\n",
    "X_train, X_test, y_train, y_test = train_test_split(X, y, test_size=0.2, random_state=42, stratify=y)\n",
    "\n",
    "# If you need a validation set as well\n",
    "X_train, X_val, y_train, y_val = train_test_split(X_train, y_train, test_size=0.25, random_state=42, stratify=y_train)  # 0.25 x 0.8 = 0.2\n",
    "\n",
    "# Feature selection\n",
    "forest = RandomForestClassifier(n_estimators=100, random_state=42)\n",
    "forest.fit(X_train, y_train)\n",
    "\n",
    "selector = SelectFromModel(forest, prefit=True)\n",
    "X_important_train = selector.transform(X_train)\n",
    "X_important_val = selector.transform(X_val)\n",
    "X_important_test = selector.transform(X_test)\n",
    "\n",
    "# Saving the necessary objects for later use\n",
    "joblib.dump(selector, 'feature_selector.pkl')\n",
    "joblib.dump((X_important_test, y_test), 'test_data.pkl')"
   ]
  },
  {
   "cell_type": "code",
   "execution_count": 19,
   "id": "bd74769d-3a32-431e-992a-ab3259a9d9e6",
   "metadata": {
    "tags": []
   },
   "outputs": [
    {
     "name": "stdout",
     "output_type": "stream",
     "text": [
      "Selected Features:\n",
      "['num_._url', 'num_-_url', 'num_/_url', 'length_url', 'num_dots_dom', 'num_hyph_dom', 'num_vowels_dom', 'length_dom', 'num_subdomains', 'num_slash_path', 'length_path', 'length_file']\n"
     ]
    }
   ],
   "source": [
    "# Get a mask, or integer index, of the features selected\n",
    "selected_features_mask = selector.get_support()\n",
    "\n",
    "# Now, print the names of the features selected\n",
    "selected_feature_names = X_train.columns[selected_features_mask]\n",
    "print(\"Selected Features:\")\n",
    "print(selected_feature_names.tolist())"
   ]
  },
  {
   "cell_type": "markdown",
   "id": "7ec49889-f939-4ad3-89f4-737d5d5a9386",
   "metadata": {},
   "source": [
    "\n",
    "\r\n",
    "## Hyperparameter Tuning with GridSearchCV\r\n",
    "\r\n",
    "In this section, we perform hyperparameter tuning for a RandomForestClassifier using GridSearchCV from the scikit-learn library. Hyperparameter tuning is a critical step in the machine learning workflow as it can significantly improve the model's performance by finding the optimal configuration of the model's parameters.\r\n",
    "\r\n",
    "### Step 1: Define the Parameter Grid\r\n",
    "\r\n",
    "We start by defining a grid of hyperparameter values we want to experiment with. The `param_grid` dictionary specifies the parameters to be tested and the range of values for each parameter. In this example, we are tuning two hyperparameters:\r\n",
    "\r\n",
    "- `n_estimators`: The number of trees in the forest. We test three values: 100, 200, and 300.\r\n",
    "- `max_depth`: The maximum depth of the trees. We test four values: None (unlimited depth), 10, al resources.\r\n",
    "\r\n",
    "### Step 2: Initialize GridSearchCV\r\n",
    "\r\n",
    "We initialize a GridSearchCV object with the RandomForestClassifier as the estimator. The `param_grid` is passed along with the number of folds for cross-validation (`cv=5`), enabling parallel execution (`n_jobs=-1`) to speed up the search, and setting `verbose=2` for more detailed logging duuit your problem.\r\n",
    "\r\n",
    "### Step 3: Fit GridSearchCV to the Data\r\n",
    "\r\n",
    "We fit GridSearchCV to the training data (`X_important_train`, `y_train`). This process involves training a RandomForestClassifier for each combination of parameters in the grid, evaluated using cross-validation. The best combination of parameters is determined based on the average cross-validation score.\r\n",
    "\r\n",
    "### Step 4: Evaluate the Best Model\r\n",
    "\r\n",
    "After finding the best hyperparameters, we retrieve the best estimator (`best_forest`) and use it for further predictions or evaluation. Optionally, we save this best model to a file using joblib for future use.\r\n",
    "\r\n",
    "This process of hyperparameter tuning is crucial for optimizing the model's performance and can be applied to virtually any machine learning algorithm. By systematically exploring the parameter space, we can identify the most effective settings for our model and data.\r\n"
   ]
  },
  {
   "cell_type": "code",
   "execution_count": 20,
   "id": "01d9f665-2e6b-4fa2-8414-074e6ecfca53",
   "metadata": {},
   "outputs": [
    {
     "name": "stdout",
     "output_type": "stream",
     "text": [
      "Fitting 5 folds for each of 12 candidates, totalling 60 fits\n",
      "Best parameters found:  {'max_depth': 10, 'n_estimators': 300}\n"
     ]
    }
   ],
   "source": [
    "from sklearn.model_selection import GridSearchCV\n",
    "from sklearn.ensemble import RandomForestClassifier\n",
    "import joblib\n",
    "\n",
    "# Define the parameter grid to search over\n",
    "param_grid = {\n",
    "    'n_estimators': [100, 200, 300],  # Number of trees in the forest\n",
    "    'max_depth': [None, 10, 20, 30],  # Maximum depth of the tree\n",
    "    # Add more parameters here if you want\n",
    "}\n",
    "\n",
    "# Initialize the classifier\n",
    "# Classification using selected features\n",
    "forest_important = RandomForestClassifier(n_estimators=100, random_state=42)\n",
    "forest_important.fit(X_important_train, y_train)\n",
    "\n",
    "\n",
    "# Set up the grid search with cross-validation\n",
    "grid_search = GridSearchCV(estimator=forest, param_grid=param_grid, cv=5, n_jobs=-1, verbose=2, scoring='accuracy')\n",
    "\n",
    "# Fit the grid search to the data\n",
    "grid_search.fit(X_important_train, y_train)\n",
    "\n",
    "# Print out the best parameters\n",
    "print(\"Best parameters found: \", grid_search.best_params_)\n",
    "\n",
    "# Use the best estimator for further predictions\n",
    "best_forest = grid_search.best_estimator_\n",
    "\n",
    "# Optionally, save the best model to a file\n",
    "joblib.dump(best_forest, 'best_forest_model.pkl')\n",
    "\n",
    "# You can use the best_forest for predictions on your validation or test set\n",
    "# Example: predictions on the validation set\n",
    "y_val_pred = best_forest.predict(X_important_val)"
   ]
  },
  {
   "cell_type": "code",
   "execution_count": 21,
   "id": "1f0d0c77-ae3a-45d6-a11c-a9cacbf40b43",
   "metadata": {},
   "outputs": [
    {
     "data": {
      "image/png": "[encoded data removed]",
      "text/plain": [
       "<Figure size 1000x600 with 2 Axes>"
      ]
     },
     "metadata": {},
     "output_type": "display_data"
    }
   ],
   "source": [
    "import numpy as np\n",
    "import pandas as pd\n",
    "import seaborn as sns\n",
    "import matplotlib.pyplot as plt\n",
    "\n",
    "# Convert GridSearchCV results into a DataFrame\n",
    "results = pd.DataFrame(grid_search.cv_results_)\n",
    "\n",
    "# Filter relevant columns\n",
    "relevant_columns = ['param_n_estimators', 'param_max_depth', 'mean_test_score']\n",
    "filtered_results = results[relevant_columns]\n",
    "\n",
    "# Corrected pivot call\n",
    "pivot_table = filtered_results.pivot(index='param_n_estimators', columns='param_max_depth', values='mean_test_score')\n",
    "\n",
    "\n",
    "# Plotting\n",
    "plt.figure(figsize=(10, 6))\n",
    "sns.heatmap(pivot_table, annot=True, cmap='viridis', fmt=\".3f\")\n",
    "plt.title('GridSearchCV Mean Test Scores')\n",
    "plt.xlabel('Max Depth')\n",
    "plt.ylabel('Number of Estimators')\n",
    "plt.show()"
   ]
  },
  {
   "cell_type": "code",
   "execution_count": 22,
   "id": "3a873a1b-46b0-4301-bfa2-4ba84d6974c4",
   "metadata": {},
   "outputs": [
    {
     "data": {
      "image/png": "[encoded data removed]",
      "text/plain": [
       "<Figure size 1000x600 with 1 Axes>"
      ]
     },
     "metadata": {},
     "output_type": "display_data"
    }
   ],
   "source": [
    "import matplotlib.pyplot as plt\n",
    "\n",
    "# Assuming 'results' is the DataFrame containing GridSearchCV results\n",
    "# Extracting mean test scores for a varying 'n_estimators'\n",
    "n_estimators_scores = results[results['param_max_depth'].isnull()][['param_n_estimators', 'mean_test_score']]\n",
    "\n",
    "plt.figure(figsize=(10, 6))\n",
    "plt.plot(n_estimators_scores['param_n_estimators'], n_estimators_scores['mean_test_score'], marker='o')\n",
    "plt.title('Mean Test Score vs. Number of Estimators')\n",
    "plt.xlabel('Number of Estimators')\n",
    "plt.ylabel('Mean Test Score')\n",
    "plt.grid(True)\n",
    "plt.show()"
   ]
  },
  {
   "cell_type": "code",
   "execution_count": 23,
   "id": "1eab02a0-a5cf-4d2a-9e3b-1717761b2f6a",
   "metadata": {},
   "outputs": [
    {
     "data": {
      "image/png": "[encoded data removed]",
      "text/plain": [
       "<Figure size 1000x600 with 1 Axes>"
      ]
     },
     "metadata": {},
     "output_type": "display_data"
    }
   ],
   "source": [
    "import seaborn as sns\n",
    "\n",
    "# Create a DataFrame for box plot data\n",
    "box_plot_data = pd.DataFrame({\n",
    "    'n_estimators': np.repeat(results['param_n_estimators'], 5),  # Assuming 5-fold CV\n",
    "    'score': np.concatenate([results[f'split{i}_test_score'] for i in range(5)])\n",
    "})\n",
    "\n",
    "plt.figure(figsize=(10, 6))\n",
    "sns.boxplot(x='n_estimators', y='score', data=box_plot_data)\n",
    "plt.title('Distribution of CV Scores by Number of Estimators')\n",
    "plt.xlabel('Number of Estimators')\n",
    "plt.ylabel('CV Score')\n",
    "plt.show()"
   ]
  },
  {
   "cell_type": "code",
   "execution_count": 24,
   "id": "8933a677-0f37-413d-9395-5a5f102582ac",
   "metadata": {},
   "outputs": [],
   "source": [
    "from sklearn.metrics import confusion_matrix, classification_report, accuracy_score\n",
    "import seaborn as sns\n",
    "import numpy as np\n",
    "\n",
    "def ResultPrintout(model):\n",
    "    sns.set(rc={'figure.figsize':(15,8)})\n",
    "    predictions = model.predict(X_important_val)\n",
    "    true_labels = y_val\n",
    "    model_matrix = confusion_matrix(true_labels, predictions)\n",
    "    model_report = classification_report(y_val, predictions, digits=5)\n",
    "    \n",
    "    val_accuracy = accuracy_score(y_val, y_val_pred)\n",
    "    print(f\"Validation Accuracy: {val_accuracy}\")\n",
    "    \n",
    "    heatmap = sns.heatmap(model_matrix, annot=True, cmap='Blues', fmt='g', \n",
    "                          xticklabels=np.unique(true_labels), \n",
    "                          yticklabels=np.unique(true_labels))\n",
    "    print(model_report)\n"
   ]
  },
  {
   "cell_type": "code",
   "execution_count": 25,
   "id": "f249caf0-9446-4ebf-ae5f-56b8c87067de",
   "metadata": {
    "tags": []
   },
   "outputs": [
    {
     "name": "stdout",
     "output_type": "stream",
     "text": [
      "Validation Accuracy: 0.9914165436553496\n",
      "              precision    recall  f1-score   support\n",
      "\n",
      "           0    0.98552   0.99749   0.99147      9146\n",
      "           1    0.99745   0.98535   0.99136      9145\n",
      "\n",
      "    accuracy                        0.99142     18291\n",
      "   macro avg    0.99149   0.99142   0.99142     18291\n",
      "weighted avg    0.99149   0.99142   0.99142     18291\n",
      "\n",
      "Validation Accuracy: 0.9914165436553496\n"
     ]
    },
    {
     "data": {
      "image/png": "[encoded data removed]",
      "text/plain": [
       "<Figure size 1500x800 with 2 Axes>"
      ]
     },
     "metadata": {},
     "output_type": "display_data"
    }
   ],
   "source": [
    "from sklearn.metrics import classification_report, accuracy_score\n",
    "# Validation prediction and evaluation\n",
    "y_val_pred = forest_important.predict(X_important_val)\n",
    "val_accuracy = accuracy_score(y_val, y_val_pred)\n",
    "ResultPrintout(forest_important)\n",
    "print(f\"Validation Accuracy: {val_accuracy}\")"
   ]
  },
  {
   "cell_type": "code",
   "execution_count": 26,
   "id": "2226f4eb-707f-468b-a43a-d5c8c0d235f7",
   "metadata": {},
   "outputs": [],
   "source": [
    "def ResultPrintout(model):\n",
    "    sns.set(rc={'figure.figsize':(15,8)})\n",
    "    predictions = model.predict(X_important_test)\n",
    "    true_labels = y_test\n",
    "    model_matrix = confusion_matrix(true_labels, predictions)\n",
    "    model_report = classification_report(y_test, predictions, digits=5)\n",
    "    \n",
    "    heatmap = sns.heatmap(model_matrix, annot=True, cmap='Blues', fmt='g', \n",
    "                          xticklabels=np.unique(true_labels), \n",
    "                          yticklabels=np.unique(true_labels))\n",
    "    print(model_report)"
   ]
  },
  {
   "cell_type": "code",
   "execution_count": 27,
   "id": "786dfec3-d88d-4f39-a943-07eb961b0a80",
   "metadata": {
    "tags": []
   },
   "outputs": [
    {
     "name": "stdout",
     "output_type": "stream",
     "text": [
      "              precision    recall  f1-score   support\n",
      "\n",
      "           0    0.98341   0.99792   0.99061      9145\n",
      "           1    0.99789   0.98316   0.99047      9146\n",
      "\n",
      "    accuracy                        0.99054     18291\n",
      "   macro avg    0.99065   0.99054   0.99054     18291\n",
      "weighted avg    0.99065   0.99054   0.99054     18291\n",
      "\n"
     ]
    },
    {
     "data": {
      "image/png": "[encoded data removed]",
      "text/plain": [
       "<Figure size 1500x800 with 2 Axes>"
      ]
     },
     "metadata": {},
     "output_type": "display_data"
    }
   ],
   "source": [
    "# Predictions and evaluation selected\n",
    "y_pred = forest_important.predict(X_important_test)\n",
    "ResultPrintout(forest_important)"
   ]
  },
  {
   "cell_type": "code",
   "execution_count": 28,
   "id": "19513835-fcc4-45f3-9cbe-e03eb09097cd",
   "metadata": {},
   "outputs": [
    {
     "name": "stdout",
     "output_type": "stream",
     "text": [
      "Model saved to forest_important_model.pkl\n",
      "[CV] END ...................max_depth=None, n_estimators=100; total time=   1.8s\n",
      "[CV] END ...................max_depth=None, n_estimators=100; total time=   1.8s\n",
      "[CV] END ...................max_depth=None, n_estimators=100; total time=   1.9s\n",
      "[CV] END ...................max_depth=None, n_estimators=200; total time=   4.1s\n",
      "[CV] END ...................max_depth=None, n_estimators=200; total time=   3.7s\n",
      "[CV] END ...................max_depth=None, n_estimators=300; total time=   5.6s\n",
      "[CV] END ...................max_depth=None, n_estimators=300; total time=   5.4s\n",
      "[CV] END ...................max_depth=None, n_estimators=300; total time=   5.5s\n",
      "[CV] END .....................max_depth=10, n_estimators=100; total time=   1.6s\n",
      "[CV] END .....................max_depth=10, n_estimators=200; total time=   3.2s\n",
      "[CV] END .....................max_depth=10, n_estimators=200; total time=   3.3s\n",
      "[CV] END .....................max_depth=10, n_estimators=200; total time=   3.2s\n",
      "[CV] END .....................max_depth=10, n_estimators=300; total time=   4.8s\n",
      "[CV] END .....................max_depth=10, n_estimators=300; total time=   4.9s\n",
      "[CV] END .....................max_depth=20, n_estimators=100; total time=   1.8s\n",
      "[CV] END .....................max_depth=20, n_estimators=100; total time=   1.9s\n",
      "[CV] END .....................max_depth=20, n_estimators=100; total time=   1.9s\n",
      "[CV] END .....................max_depth=20, n_estimators=200; total time=   3.9s\n",
      "[CV] END .....................max_depth=20, n_estimators=200; total time=   3.6s\n",
      "[CV] END .....................max_depth=20, n_estimators=200; total time=   3.6s\n",
      "[CV] END .....................max_depth=20, n_estimators=300; total time=   5.6s\n",
      "[CV] END .....................max_depth=20, n_estimators=300; total time=   5.6s\n",
      "[CV] END .....................max_depth=30, n_estimators=100; total time=   1.8s\n",
      "[CV] END .....................max_depth=30, n_estimators=100; total time=   1.8s\n",
      "[CV] END .....................max_depth=30, n_estimators=100; total time=   1.8s\n",
      "[CV] END .....................max_depth=30, n_estimators=200; total time=   3.7s\n",
      "[CV] END .....................max_depth=30, n_estimators=200; total time=   3.8s\n",
      "[CV] END .....................max_depth=30, n_estimators=200; total time=   3.7s\n",
      "[CV] END .....................max_depth=30, n_estimators=300; total time=   5.6s\n",
      "[CV] END .....................max_depth=30, n_estimators=300; total time=   5.4s\n",
      "[CV] END ...................max_depth=None, n_estimators=100; total time=   1.8s\n",
      "[CV] END ...................max_depth=None, n_estimators=100; total time=   1.8s\n",
      "[CV] END ...................max_depth=None, n_estimators=200; total time=   4.0s\n",
      "[CV] END ...................max_depth=None, n_estimators=200; total time=   3.7s\n",
      "[CV] END ...................max_depth=None, n_estimators=200; total time=   3.7s\n",
      "[CV] END ...................max_depth=None, n_estimators=300; total time=   5.7s\n",
      "[CV] END ...................max_depth=None, n_estimators=300; total time=   5.5s\n",
      "[CV] END .....................max_depth=10, n_estimators=100; total time=   1.8s\n",
      "[CV] END .....................max_depth=10, n_estimators=100; total time=   1.6s\n",
      "[CV] END .....................max_depth=10, n_estimators=100; total time=   1.6s\n",
      "[CV] END .....................max_depth=10, n_estimators=100; total time=   1.6s\n",
      "[CV] END .....................max_depth=10, n_estimators=200; total time=   3.3s\n",
      "[CV] END .....................max_depth=10, n_estimators=200; total time=   3.5s\n",
      "[CV] END .....................max_depth=10, n_estimators=300; total time=   4.8s\n",
      "[CV] END .....................max_depth=10, n_estimators=300; total time=   5.0s\n",
      "[CV] END .....................max_depth=10, n_estimators=300; total time=   4.8s\n",
      "[CV] END .....................max_depth=20, n_estimators=100; total time=   1.8s\n",
      "[CV] END .....................max_depth=20, n_estimators=100; total time=   1.9s\n",
      "[CV] END .....................max_depth=20, n_estimators=200; total time=   4.0s\n",
      "[CV] END .....................max_depth=20, n_estimators=200; total time=   3.7s\n",
      "[CV] END .....................max_depth=20, n_estimators=300; total time=   5.6s\n",
      "[CV] END .....................max_depth=20, n_estimators=300; total time=   5.5s\n",
      "[CV] END .....................max_depth=20, n_estimators=300; total time=   5.5s\n",
      "[CV] END .....................max_depth=30, n_estimators=100; total time=   1.8s\n",
      "[CV] END .....................max_depth=30, n_estimators=100; total time=   1.8s\n",
      "[CV] END .....................max_depth=30, n_estimators=200; total time=   3.9s\n",
      "[CV] END .....................max_depth=30, n_estimators=200; total time=   3.6s\n",
      "[CV] END .....................max_depth=30, n_estimators=300; total time=   5.5s\n",
      "[CV] END .....................max_depth=30, n_estimators=300; total time=   5.6s\n",
      "[CV] END .....................max_depth=30, n_estimators=300; total time=   4.5s\n"
     ]
    }
   ],
   "source": [
    "import joblib\n",
    "\n",
    "# Training the RandomForestClassifier with selected important features\n",
    "forest_important = RandomForestClassifier(n_estimators=100, random_state=42)\n",
    "forest_important.fit(X_important_train, y_train)\n",
    "\n",
    "# Save the model to a file\n",
    "model_filename = 'forest_important_model.pkl'\n",
    "joblib.dump(forest_important, model_filename)\n",
    "\n",
    "print(f'Model saved to {model_filename}')"
   ]
  },
  {
   "cell_type": "code",
   "execution_count": null,
   "id": "526f39ce-195d-4549-8d7e-cda47bf05bb3",
   "metadata": {},
   "outputs": [],
   "source": []
  }
 ],
 "metadata": {
  "kernelspec": {
   "display_name": "Python 3 (ipykernel)",
   "language": "python",
   "name": "python3"
  },
  "language_info": {
   "codemirror_mode": {
    "name": "ipython",
    "version": 3
   },
   "file_extension": ".py",
   "mimetype": "text/x-python",
   "name": "python",
   "nbconvert_exporter": "python",
   "pygments_lexer": "ipython3",
   "version": "3.10.13"
  }
 },
 "nbformat": 4,
 "nbformat_minor": 5
}
