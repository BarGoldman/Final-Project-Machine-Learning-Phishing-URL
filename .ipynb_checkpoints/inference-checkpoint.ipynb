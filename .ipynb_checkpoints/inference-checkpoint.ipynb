{
 "cells": [
  {
   "cell_type": "code",
   "execution_count": 1,
   "metadata": {
    "tags": []
   },
   "outputs": [
    {
     "name": "stdout",
     "output_type": "stream",
     "text": [
      "Requirement already satisfied: numpy in c:\\users\\kiril\\anaconda3\\lib\\site-packages (1.24.3)\n",
      "Requirement already satisfied: seaborn in c:\\users\\kiril\\anaconda3\\lib\\site-packages (0.12.2)\n",
      "Requirement already satisfied: scikit-learn in c:\\users\\kiril\\anaconda3\\lib\\site-packages (1.3.2)\n",
      "Requirement already satisfied: joblib in c:\\users\\kiril\\anaconda3\\lib\\site-packages (1.2.0)\n",
      "Requirement already satisfied: pandas>=0.25 in c:\\users\\kiril\\anaconda3\\lib\\site-packages (from seaborn) (2.0.3)\n",
      "Requirement already satisfied: matplotlib!=3.6.1,>=3.1 in c:\\users\\kiril\\anaconda3\\lib\\site-packages (from seaborn) (3.7.2)\n",
      "Requirement already satisfied: scipy>=1.5.0 in c:\\users\\kiril\\anaconda3\\lib\\site-packages (from scikit-learn) (1.11.1)\n",
      "Requirement already satisfied: threadpoolctl>=2.0.0 in c:\\users\\kiril\\anaconda3\\lib\\site-packages (from scikit-learn) (2.2.0)\n",
      "Requirement already satisfied: contourpy>=1.0.1 in c:\\users\\kiril\\anaconda3\\lib\\site-packages (from matplotlib!=3.6.1,>=3.1->seaborn) (1.0.5)\n",
      "Requirement already satisfied: cycler>=0.10 in c:\\users\\kiril\\anaconda3\\lib\\site-packages (from matplotlib!=3.6.1,>=3.1->seaborn) (0.11.0)\n",
      "Requirement already satisfied: fonttools>=4.22.0 in c:\\users\\kiril\\anaconda3\\lib\\site-packages (from matplotlib!=3.6.1,>=3.1->seaborn) (4.25.0)\n",
      "Requirement already satisfied: kiwisolver>=1.0.1 in c:\\users\\kiril\\anaconda3\\lib\\site-packages (from matplotlib!=3.6.1,>=3.1->seaborn) (1.4.4)\n",
      "Requirement already satisfied: packaging>=20.0 in c:\\users\\kiril\\anaconda3\\lib\\site-packages (from matplotlib!=3.6.1,>=3.1->seaborn) (23.1)\n",
      "Requirement already satisfied: pillow>=6.2.0 in c:\\users\\kiril\\anaconda3\\lib\\site-packages (from matplotlib!=3.6.1,>=3.1->seaborn) (10.2.0)\n",
      "Requirement already satisfied: pyparsing<3.1,>=2.3.1 in c:\\users\\kiril\\anaconda3\\lib\\site-packages (from matplotlib!=3.6.1,>=3.1->seaborn) (3.0.9)\n",
      "Requirement already satisfied: python-dateutil>=2.7 in c:\\users\\kiril\\anaconda3\\lib\\site-packages (from matplotlib!=3.6.1,>=3.1->seaborn) (2.8.2)\n",
      "Requirement already satisfied: pytz>=2020.1 in c:\\users\\kiril\\anaconda3\\lib\\site-packages (from pandas>=0.25->seaborn) (2023.3.post1)\n",
      "Requirement already satisfied: tzdata>=2022.1 in c:\\users\\kiril\\anaconda3\\lib\\site-packages (from pandas>=0.25->seaborn) (2023.3)\n",
      "Requirement already satisfied: six>=1.5 in c:\\users\\kiril\\anaconda3\\lib\\site-packages (from python-dateutil>=2.7->matplotlib!=3.6.1,>=3.1->seaborn) (1.16.0)\n"
     ]
    }
   ],
   "source": [
    "!pip install numpy seaborn scikit-learn joblib\n"
   ]
  },
  {
   "cell_type": "code",
   "execution_count": 2,
   "metadata": {
    "tags": []
   },
   "outputs": [
    {
     "name": "stdout",
     "output_type": "stream",
     "text": [
      "Requirement already satisfied: scikit-learn==1.3.2 in c:\\users\\kiril\\anaconda3\\lib\\site-packages (1.3.2)\n",
      "Requirement already satisfied: numpy<2.0,>=1.17.3 in c:\\users\\kiril\\anaconda3\\lib\\site-packages (from scikit-learn==1.3.2) (1.24.3)\n",
      "Requirement already satisfied: scipy>=1.5.0 in c:\\users\\kiril\\anaconda3\\lib\\site-packages (from scikit-learn==1.3.2) (1.11.1)\n",
      "Requirement already satisfied: joblib>=1.1.1 in c:\\users\\kiril\\anaconda3\\lib\\site-packages (from scikit-learn==1.3.2) (1.2.0)\n",
      "Requirement already satisfied: threadpoolctl>=2.0.0 in c:\\users\\kiril\\anaconda3\\lib\\site-packages (from scikit-learn==1.3.2) (2.2.0)\n",
      "Note: you may need to restart the kernel to use updated packages.\n"
     ]
    }
   ],
   "source": [
    "pip install scikit-learn==1.3.2\n"
   ]
  },
  {
   "cell_type": "code",
   "execution_count": 3,
   "metadata": {
    "tags": []
   },
   "outputs": [],
   "source": [
    "import joblib\n",
    "import numpy as np\n",
    "import seaborn as sns\n",
    "from sklearn.metrics import confusion_matrix, classification_report\n",
    "\n",
    "# Load the saved models and data\n",
    "selector = joblib.load('feature_selector.pkl')\n",
    "forest_important = joblib.load('best_forest_model.pkl')\n",
    "X_important_test, y_test = joblib.load('test_data.pkl')"
   ]
  },
  {
   "cell_type": "code",
   "execution_count": 4,
   "metadata": {
    "tags": []
   },
   "outputs": [
    {
     "name": "stdout",
     "output_type": "stream",
     "text": [
      "              precision    recall  f1-score   support\n",
      "\n",
      "           0    0.98646   0.99820   0.99230     10000\n",
      "           1    0.99800   0.98497   0.99144      9114\n",
      "\n",
      "    accuracy                        0.99189     19114\n",
      "   macro avg    0.99223   0.99158   0.99187     19114\n",
      "weighted avg    0.99196   0.99189   0.99189     19114\n",
      "\n"
     ]
    },
    {
     "data": {
      "image/png": "[encoded data removed]",
      "text/plain": [
       "<Figure size 1500x800 with 2 Axes>"
      ]
     },
     "metadata": {},
     "output_type": "display_data"
    }
   ],
   "source": [
    "# The ResultPrintout function you provided\n",
    "def ResultPrintout(model):\n",
    "    sns.set(rc={'figure.figsize':(15,8)})\n",
    "    predictions = model.predict(X_important_test)\n",
    "    true_labels = y_test\n",
    "    model_matrix = confusion_matrix(true_labels, predictions)\n",
    "    model_report = classification_report(y_test, predictions, digits=5)\n",
    "    \n",
    "    heatmap = sns.heatmap(model_matrix, annot=True, cmap='Blues', fmt='g', \n",
    "                          xticklabels=np.unique(true_labels), \n",
    "                          yticklabels=np.unique(true_labels))\n",
    "    print(model_report)  # Predictions and evaluation selected\n",
    "\n",
    "# Perform prediction on the test set using the loaded model\n",
    "y_pred = forest_important.predict(X_important_test)\n",
    "\n",
    "# Use the ResultPrintout function to print the result\n",
    "ResultPrintout(forest_important)"
   ]
  },
  {
   "cell_type": "code",
   "execution_count": 5,
   "metadata": {
    "tags": []
   },
   "outputs": [],
   "source": [
    "\n",
    "# Helper function to calculate the number of times each special character appears in the URL\n",
    "def count_chars(url, char_list):\n",
    "    return {f\"num_{char}_url\": url.count(char) for char in char_list}\n",
    "\n",
    "# Function to check if an email is present in the URL\n",
    "def check_email_in_url(url):\n",
    "    return 1 if \"@\" in url else 0\n",
    "\n",
    "# Calculate the length of the top-level domain (TLD)\n",
    "def tld_length(url):\n",
    "    domain = urlparse(url).netloc\n",
    "    try:\n",
    "        return len(domain.split('.')[-1])  # Assuming the last part after the last dot is the TLD\n",
    "    except IndexError:\n",
    "        return 0\n",
    "\n",
    "# New function to check if \"&\" is greater than \"=\" in the URL\n",
    "def amp_greater_than_equal(url):\n",
    "    num_amp = url.count(\"&\")\n",
    "    num_equal = url.count(\"=\")\n",
    "    return 1 if num_amp > num_equal else 0\n",
    "\n"
   ]
  },
  {
   "cell_type": "code",
   "execution_count": 6,
   "metadata": {
    "tags": []
   },
   "outputs": [],
   "source": [
    "import requests\n",
    "import re\n",
    "def get_domain_age(domain):\n",
    "    # Placeholder URL and key - replace with actual URL and your API key\n",
    "    api_url = f\"https://example-domain-info-service.com/api/lookup?domain={domain}\"\n",
    "    api_key = \"your_api_key_here\"\n",
    "    \n",
    "    headers = {\"Authorization\": f\"Bearer {api_key}\"}\n",
    "    \n",
    "    try:\n",
    "        response = requests.get(api_url, headers=headers)\n",
    "        response.raise_for_status()  # Check for HTTP request errors\n",
    "        data = response.json()\n",
    "        # Assuming the service returns a JSON object with a 'creation_date' field\n",
    "        creation_date = data.get('creation_date', None)\n",
    "        # Convert 'creation_date' to a datetime object and calculate age\n",
    "        if creation_date:\n",
    "            creation_date = pd.to_datetime(creation_date)\n",
    "            current_date = pd.Timestamp.now()\n",
    "            domain_age_days = (current_date - creation_date).days\n",
    "            return domain_age_days\n",
    "        else:\n",
    "            return None\n",
    "    except Exception as e:\n",
    "        print(f\"Error fetching domain age for {domain}: {e}\")\n",
    "        return None\n",
    "\n",
    "\n",
    "def domain_features(url):\n",
    "    first_url = \"http://\" + url\n",
    "    parsed_url = urlparse(first_url)\n",
    "    domain = parsed_url.netloc\n",
    "\n",
    "    if domain.startswith(\"www.\"):\n",
    "        domain = domain[4:]\n",
    "\n",
    "    # Calculate the number of dots in the domain\n",
    "    num_dots_dom = domain.count('.')\n",
    "\n",
    "    # Calculate the number of hyphens in the domain\n",
    "    num_hyph_dom = domain.count('-')\n",
    "\n",
    "    # Calculate the number of underscores in the domain\n",
    "    num_undeline_dom = domain.count('_')\n",
    "\n",
    "    # Count the number of vowels in the domain\n",
    "    num_vowels_dom = sum(1 for char in domain if char in 'aeiouAEIOU')\n",
    "\n",
    "    # Calculate the length of the domain\n",
    "    length_dom = len(domain)\n",
    "\n",
    "    # Check if the domain is in IP format\n",
    "    dom_in_ip = 1 if re.match(r\"^\\d{1,3}\\.\\d{1,3}\\.\\d{1,3}\\.\\d{1,3}$\", domain) else 0\n",
    "\n",
    "    # Check for the presence of \"server\" or \"client\" in the domain\n",
    "    server_client_dom = 1 if 'server' in domain or 'client' in domain else 0\n",
    "\n",
    "        # Calculate the number of subdomains\n",
    "    num_subdomains = domain.count('.') - 1\n",
    "\n",
    "    # Compile all features into a dictionary\n",
    "    features = {\n",
    "        'num_dots_dom': num_dots_dom,\n",
    "        'num_hyph_dom': num_hyph_dom,\n",
    "        'num_undeline_dom': num_undeline_dom,\n",
    "        'num_vowels_dom': num_vowels_dom,\n",
    "        'length_dom': length_dom,\n",
    "        'dom_in_ip': dom_in_ip,\n",
    "        'server_client_dom': server_client_dom,\n",
    "        'num_subdomains': num_subdomains,\n",
    "    }\n",
    "    \n",
    "    return features"
   ]
  },
  {
   "cell_type": "code",
   "execution_count": 7,
   "metadata": {
    "tags": []
   },
   "outputs": [],
   "source": [
    "def extract_pathname_features(url):\n",
    "    \"\"\"\n",
    "    Extracts features from the pathname of a URL.\n",
    "    \"\"\"\n",
    "    first_url = \"http://\" + url\n",
    "    pathname = urlparse(first_url).path\n",
    "\n",
    "    features = {\n",
    "        'num_dots_path': pathname.count('.'),\n",
    "        'num_hyph_path': pathname.count('-'),\n",
    "        'num_undeline_path': pathname.count('_'),\n",
    "        'num_slash_path': pathname.count('/'),\n",
    "        'num_question_path': pathname.count('?'),\n",
    "        'num_equal_path': pathname.count('='),\n",
    "        'at_sign_path': pathname.count('@'),\n",
    "        'num_and_path': pathname.count('&'),\n",
    "        'num_exclamation_path': pathname.count('!'),\n",
    "        'num_space_path': pathname.count(' '),\n",
    "        'tilde_path': pathname.count('~'),\n",
    "        'num_comma_path': pathname.count(','),\n",
    "        'num_plus_path': pathname.count('+'),\n",
    "        'num_asterisk_path': pathname.count('*'),\n",
    "        'num_hash_path': pathname.count('#'),\n",
    "        'num_dollar_path': pathname.count('$'),\n",
    "        'num_percent_path': pathname.count('%'),\n",
    "        'length_path': len(pathname)\n",
    "    }\n",
    "    \n",
    "    return features"
   ]
  },
  {
   "cell_type": "code",
   "execution_count": 8,
   "metadata": {
    "tags": []
   },
   "outputs": [],
   "source": [
    "def extract_filename_features(url):\n",
    "    \"\"\"\n",
    "    Extracts features from the filename of a URL.\n",
    "    \"\"\"\n",
    "    first_url = \"http://\" + url\n",
    "    # Parse the URL to get the path\n",
    "    path = urlparse(first_url).path\n",
    "    # Extract the filename (assuming the filename is the last part of the path)\n",
    "    filename = path.split('/')[-1] if '/' in path else path\n",
    "    \n",
    "    features = {\n",
    "        'num_dots_file': filename.count('.'),\n",
    "        'num_hyph_file': filename.count('-'),\n",
    "        'num_undeline_file': filename.count('_'),\n",
    "        'num_equal_file': filename.count('='),\n",
    "        'at_sign_file': filename.count('@'),\n",
    "        'num_and_file': filename.count('&'),\n",
    "        'num_exclamation_file': filename.count('!'),\n",
    "        'num_space_file': filename.count(' '),\n",
    "        'tilde_file': filename.count('~'),\n",
    "        'num_comma_file': filename.count(','),\n",
    "        'num_plus_file': filename.count('+'),\n",
    "        'num_percent_file': filename.count('%'),\n",
    "        'length_file': len(filename)\n",
    "    }\n",
    "    \n",
    "    return features\n"
   ]
  },
  {
   "cell_type": "code",
   "execution_count": 9,
   "metadata": {
    "tags": []
   },
   "outputs": [],
   "source": [
    "from urllib.parse import urlparse, parse_qs\n",
    "import pandas as pd\n",
    "\n",
    "def extract_parameters_features(url):\n",
    "    \"\"\"\n",
    "    Extracts features from the parameters of a URL.\n",
    "    \"\"\"\n",
    "    first_url = \"http://\" + url\n",
    "    query_string = urlparse(first_url).query\n",
    "    params = parse_qs(query_string)\n",
    "    \n",
    "    # Counting the occurrences of various symbols in the entire query string\n",
    "    features = {\n",
    "        'num_dots_param': query_string.count('.'),\n",
    "        'num_hyph_param': query_string.count('-'),\n",
    "        'num_undeline_param': query_string.count('_'),\n",
    "        'num_slash_param': query_string.count('/'),\n",
    "        'num_questionmark_param': query_string.count('?'),\n",
    "        'num_equal_param': query_string.count('='),\n",
    "        'at_sign_param': query_string.count('@'),\n",
    "        'num_and_param': query_string.count('&'),\n",
    "        'num_exclamation_param': query_string.count('!'),\n",
    "        'num_space_param': query_string.count(' '),\n",
    "        'tilde_param': query_string.count('~'),\n",
    "        'num_comma_param': query_string.count(','),\n",
    "        'num_plus_param': query_string.count('+'),\n",
    "        'num_asterisk_param': query_string.count('*'),\n",
    "        'num_dollar_param': query_string.count('$'),\n",
    "        'num_percent_param': query_string.count('%'),\n",
    "        'length_param': len(query_string),\n",
    "        'tld_in_param': int(any(part.endswith(('.com', '.org', '.net', '.edu', '.gov')) for part in query_string.split('&'))),\n",
    "        'num_param': len(params)\n",
    "    }\n",
    "    \n",
    "    return features"
   ]
  },
  {
   "cell_type": "code",
   "execution_count": 10,
   "metadata": {
    "tags": []
   },
   "outputs": [],
   "source": [
    "def extract_features(url):\n",
    "    special_chars = ['.', '-', '_', '/', '?', '=', '@', '&', '!', ' ', '~', ',', '+', '*', '#', '$', '%']\n",
    "    features = count_chars(url, special_chars)\n",
    "    # Ensure check_email_in_url returns a dictionary to be compatible with update\n",
    "    features['email_in_url'] = check_email_in_url(url)  # Adjust this line\n",
    "    # Assuming tld_length, amp_greater_than_equal return integers, add them directly\n",
    "    features['num_tld_url'] = tld_length(url)\n",
    "    features['amp_greater_than_equal'] = amp_greater_than_equal(url)\n",
    "    features['length_url'] = len(url)\n",
    "    # Add additional features\n",
    "    features.update(extract_filename_features(url))\n",
    "    features.update(domain_features(url))\n",
    "    features.update(extract_pathname_features(url))\n",
    "    features.update(extract_parameters_features(url))\n",
    "    return features\n"
   ]
  },
  {
   "cell_type": "code",
   "execution_count": 11,
   "metadata": {
    "tags": []
   },
   "outputs": [],
   "source": [
    "import tkinter as tk\n",
    "from tkinter import messagebox\n",
    "\n",
    "def predict_url():\n",
    "    url = url_entry.get()  # Get URL from entry\n",
    "    url_features = extract_features(url)  # Extract all features from the URL\n",
    "    \n",
    "    features_df = pd.DataFrame([url_features])  # Create a DataFrame from the features\n",
    "    \n",
    "    important_features =  selector.transform(features_df.values)  # Use .values to match expected format\n",
    "    prediction = forest_important.predict(important_features)  # Predict using the model\n",
    "\n",
    "    # Update the display based on the prediction\n",
    "    if prediction[0] == 1:  # Assuming 1 means phishing\n",
    "        result_label.config(bg=\"red\", text=\"Website is 100% unsafe to use...\")\n",
    "        #continue_button.config(text=\"Still want to Continue\")\n",
    "    else:  # Assuming 0 means legitimate\n",
    "        result_label.config(bg=\"green\", text=\"Website is 94% safe to use...\")\n",
    "        #continue_button.config(text=\"Continue\")"
   ]
  },
  {
   "cell_type": "code",
   "execution_count": 12,
   "metadata": {
    "tags": []
   },
   "outputs": [],
   "source": [
    "\n",
    "\n",
    "# Set up the main application window\n",
    "root = tk.Tk()\n",
    "root.title(\"Phishing URL Detection\")\n",
    "\n",
    "# Create and place the URL entry\n",
    "url_label = tk.Label(root, text=\"Enter URL:\")\n",
    "url_label.pack(pady=5)\n",
    "url_entry = tk.Entry(root, width=50)\n",
    "url_entry.pack(pady=5)\n",
    "\n",
    "# Create and place the 'Check' button\n",
    "check_button = tk.Button(root, text=\"Check here\", command=predict_url)\n",
    "check_button.pack(pady=10)\n",
    "\n",
    "# Create labels for the result and continue button\n",
    "result_label = tk.Label(root, text=\"\", bg=\"grey\", fg=\"white\", width=50, height=2)\n",
    "result_label.pack(pady=10)\n",
    "\n",
    "#continue_button = tk.Button(root, text=\"\", width=20)\n",
    "#continue_button.pack(pady=5)\n",
    "\n",
    "# Run the application\n",
    "root.mainloop()"
   ]
  },
  {
   "cell_type": "code",
   "execution_count": null,
   "metadata": {},
   "outputs": [],
   "source": []
  }
 ],
 "metadata": {
  "kernelspec": {
   "display_name": "Python 3 (ipykernel)",
   "language": "python",
   "name": "python3"
  },
  "language_info": {
   "codemirror_mode": {
    "name": "ipython",
    "version": 3
   },
   "file_extension": ".py",
   "mimetype": "text/x-python",
   "name": "python",
   "nbconvert_exporter": "python",
   "pygments_lexer": "ipython3",
   "version": "3.11.5"
  }
 },
 "nbformat": 4,
 "nbformat_minor": 4
}
